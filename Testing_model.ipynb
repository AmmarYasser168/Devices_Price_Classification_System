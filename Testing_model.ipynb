{
 "cells": [
  {
   "cell_type": "code",
   "execution_count": 42,
   "metadata": {},
   "outputs": [],
   "source": [
    "import dill as pickle\n",
    "import numpy as np, pandas as pd\n",
    "import matplotlib.pyplot as plt\n",
    "from sklearn.metrics import confusion_matrix as cm\n",
    "from sklearn.metrics import plot_confusion_matrix\n",
    "from tensorflow.keras.models import load_model"
   ]
  },
  {
   "cell_type": "code",
   "execution_count": 43,
   "metadata": {},
   "outputs": [],
   "source": [
    "def calculate_metrics_per_class(confusion_matrix):\n",
    "    \"\"\"\n",
    "    Calculate sensitivity and specificity for each class from a confusion matrix.\n",
    "\n",
    "    Parameters:\n",
    "    - confusion_matrix: numpy array, shape (n_classes, n_classes)\n",
    "        The confusion matrix.\n",
    "\n",
    "    Returns:\n",
    "    - sensitivities: numpy array, shape (n_classes,)\n",
    "        Sensitivity (True Positive Rate or Recall) for each class.\n",
    "    - specificities: numpy array, shape (n_classes,)\n",
    "        Specificity (True Negative Rate) for each class.\n",
    "    \"\"\"\n",
    "    n_classes = confusion_matrix.shape[0]\n",
    "    sensitivities = np.zeros(n_classes)\n",
    "    specificities = np.zeros(n_classes)\n",
    "\n",
    "    for i in range(n_classes):\n",
    "        true_positive = confusion_matrix[i, i]\n",
    "        false_negative = np.sum(confusion_matrix[i, :]) - true_positive\n",
    "        false_positive = np.sum(confusion_matrix[:, i]) - true_positive\n",
    "        true_negative = np.sum(confusion_matrix) - (true_positive + false_negative + false_positive)\n",
    "\n",
    "        # Sensitivity (True Positive Rate or Recall) for each class\n",
    "        sensitivities[i] = true_positive / (true_positive + false_negative)\n",
    "\n",
    "        # Specificity (True Negative Rate) for each class\n",
    "        specificities[i] = true_negative / (true_negative + false_positive)\n",
    "\n",
    "    return sensitivities, specificities"
   ]
  },
  {
   "cell_type": "markdown",
   "metadata": {},
   "source": [
    "# Load the Cleaned test data"
   ]
  },
  {
   "cell_type": "code",
   "execution_count": 44,
   "metadata": {},
   "outputs": [
    {
     "data": {
      "text/html": [
       "<div>\n",
       "<style scoped>\n",
       "    .dataframe tbody tr th:only-of-type {\n",
       "        vertical-align: middle;\n",
       "    }\n",
       "\n",
       "    .dataframe tbody tr th {\n",
       "        vertical-align: top;\n",
       "    }\n",
       "\n",
       "    .dataframe thead th {\n",
       "        text-align: right;\n",
       "    }\n",
       "</style>\n",
       "<table border=\"1\" class=\"dataframe\">\n",
       "  <thead>\n",
       "    <tr style=\"text-align: right;\">\n",
       "      <th></th>\n",
       "      <th>battery_power</th>\n",
       "      <th>blue</th>\n",
       "      <th>clock_speed</th>\n",
       "      <th>dual_sim</th>\n",
       "      <th>four_g</th>\n",
       "      <th>int_memory</th>\n",
       "      <th>m_dep</th>\n",
       "      <th>mobile_wt</th>\n",
       "      <th>n_cores</th>\n",
       "      <th>pc</th>\n",
       "      <th>ram</th>\n",
       "      <th>talk_time</th>\n",
       "      <th>touch_screen</th>\n",
       "      <th>wifi</th>\n",
       "      <th>px_total</th>\n",
       "      <th>sc_diagonal</th>\n",
       "      <th>price_range</th>\n",
       "    </tr>\n",
       "  </thead>\n",
       "  <tbody>\n",
       "    <tr>\n",
       "      <th>0</th>\n",
       "      <td>0.413462</td>\n",
       "      <td>-0.992494</td>\n",
       "      <td>1.566979</td>\n",
       "      <td>0.978631</td>\n",
       "      <td>-1.042594</td>\n",
       "      <td>0.988532</td>\n",
       "      <td>-1.393208</td>\n",
       "      <td>-1.137703</td>\n",
       "      <td>1.520803</td>\n",
       "      <td>-0.315058</td>\n",
       "      <td>-1.254295</td>\n",
       "      <td>1.097922</td>\n",
       "      <td>0.996490</td>\n",
       "      <td>0.989508</td>\n",
       "      <td>-0.766539</td>\n",
       "      <td>0.596349</td>\n",
       "      <td>0</td>\n",
       "    </tr>\n",
       "    <tr>\n",
       "      <th>1</th>\n",
       "      <td>-0.455647</td>\n",
       "      <td>-0.992494</td>\n",
       "      <td>-0.395503</td>\n",
       "      <td>-1.021836</td>\n",
       "      <td>-1.042594</td>\n",
       "      <td>0.602509</td>\n",
       "      <td>0.686160</td>\n",
       "      <td>0.020820</td>\n",
       "      <td>-1.535056</td>\n",
       "      <td>-0.810148</td>\n",
       "      <td>1.461466</td>\n",
       "      <td>0.182757</td>\n",
       "      <td>0.996490</td>\n",
       "      <td>0.989508</td>\n",
       "      <td>-1.090228</td>\n",
       "      <td>-0.581328</td>\n",
       "      <td>3</td>\n",
       "    </tr>\n",
       "    <tr>\n",
       "      <th>2</th>\n",
       "      <td>-1.536345</td>\n",
       "      <td>-0.992494</td>\n",
       "      <td>0.585738</td>\n",
       "      <td>0.978631</td>\n",
       "      <td>-1.042594</td>\n",
       "      <td>0.823093</td>\n",
       "      <td>-0.700085</td>\n",
       "      <td>-0.713853</td>\n",
       "      <td>1.084252</td>\n",
       "      <td>0.345063</td>\n",
       "      <td>0.818939</td>\n",
       "      <td>0.731856</td>\n",
       "      <td>-1.003522</td>\n",
       "      <td>-1.010604</td>\n",
       "      <td>-0.918799</td>\n",
       "      <td>0.114064</td>\n",
       "      <td>2</td>\n",
       "    </tr>\n",
       "    <tr>\n",
       "      <th>3</th>\n",
       "      <td>-0.535277</td>\n",
       "      <td>1.007562</td>\n",
       "      <td>1.689635</td>\n",
       "      <td>-1.021836</td>\n",
       "      <td>0.959146</td>\n",
       "      <td>-0.886438</td>\n",
       "      <td>0.339599</td>\n",
       "      <td>-0.600827</td>\n",
       "      <td>1.520803</td>\n",
       "      <td>1.500275</td>\n",
       "      <td>-0.300184</td>\n",
       "      <td>-0.183309</td>\n",
       "      <td>-1.003522</td>\n",
       "      <td>-1.010604</td>\n",
       "      <td>-0.655647</td>\n",
       "      <td>0.681288</td>\n",
       "      <td>1</td>\n",
       "    </tr>\n",
       "    <tr>\n",
       "      <th>4</th>\n",
       "      <td>1.344000</td>\n",
       "      <td>1.007562</td>\n",
       "      <td>0.708393</td>\n",
       "      <td>-1.021836</td>\n",
       "      <td>-1.042594</td>\n",
       "      <td>1.484848</td>\n",
       "      <td>-1.393208</td>\n",
       "      <td>-1.392013</td>\n",
       "      <td>0.211150</td>\n",
       "      <td>0.840154</td>\n",
       "      <td>0.938779</td>\n",
       "      <td>-1.098473</td>\n",
       "      <td>0.996490</td>\n",
       "      <td>0.989508</td>\n",
       "      <td>2.287569</td>\n",
       "      <td>0.607799</td>\n",
       "      <td>3</td>\n",
       "    </tr>\n",
       "  </tbody>\n",
       "</table>\n",
       "</div>"
      ],
      "text/plain": [
       "   battery_power      blue  clock_speed  dual_sim    four_g  int_memory  \\\n",
       "0       0.413462 -0.992494     1.566979  0.978631 -1.042594    0.988532   \n",
       "1      -0.455647 -0.992494    -0.395503 -1.021836 -1.042594    0.602509   \n",
       "2      -1.536345 -0.992494     0.585738  0.978631 -1.042594    0.823093   \n",
       "3      -0.535277  1.007562     1.689635 -1.021836  0.959146   -0.886438   \n",
       "4       1.344000  1.007562     0.708393 -1.021836 -1.042594    1.484848   \n",
       "\n",
       "      m_dep  mobile_wt   n_cores        pc       ram  talk_time  touch_screen  \\\n",
       "0 -1.393208  -1.137703  1.520803 -0.315058 -1.254295   1.097922      0.996490   \n",
       "1  0.686160   0.020820 -1.535056 -0.810148  1.461466   0.182757      0.996490   \n",
       "2 -0.700085  -0.713853  1.084252  0.345063  0.818939   0.731856     -1.003522   \n",
       "3  0.339599  -0.600827  1.520803  1.500275 -0.300184  -0.183309     -1.003522   \n",
       "4 -1.393208  -1.392013  0.211150  0.840154  0.938779  -1.098473      0.996490   \n",
       "\n",
       "       wifi  px_total  sc_diagonal  price_range  \n",
       "0  0.989508 -0.766539     0.596349            0  \n",
       "1  0.989508 -1.090228    -0.581328            3  \n",
       "2 -1.010604 -0.918799     0.114064            2  \n",
       "3 -1.010604 -0.655647     0.681288            1  \n",
       "4  0.989508  2.287569     0.607799            3  "
      ]
     },
     "execution_count": 44,
     "metadata": {},
     "output_type": "execute_result"
    }
   ],
   "source": [
    "device_test_data = pd.read_csv(\"Cleaned_test.csv\")\n",
    "device_test_copy = device_test_data.copy()\n",
    "device_test_copy.head()"
   ]
  },
  {
   "cell_type": "code",
   "execution_count": 45,
   "metadata": {},
   "outputs": [],
   "source": [
    "X = device_test_copy.drop(['price_range'], axis=1)\n",
    "Y = device_test_copy['price_range']\n"
   ]
  },
  {
   "cell_type": "markdown",
   "metadata": {},
   "source": [
    "# Load the Test data to be predicted"
   ]
  },
  {
   "cell_type": "code",
   "execution_count": 67,
   "metadata": {},
   "outputs": [
    {
     "name": "stdout",
     "output_type": "stream",
     "text": [
      "     battery_power  blue  clock_speed  dual_sim  four_g  int_memory  m_dep  \\\n",
      "143           1466     0          2.4         1       1          57    0.9   \n",
      "232           1580     0          2.8         1       0          45    1.0   \n",
      "484           1546     1          2.7         0       0          55    0.2   \n",
      "157           1496     1          1.3         1       0          42    0.9   \n",
      "780           1986     0          0.8         0       1          13    0.2   \n",
      "134           1140     0          1.6         1       1          56    0.3   \n",
      "165            796     1          2.3         1       1          36    0.3   \n",
      "947           1347     0          2.1         1       0          44    0.8   \n",
      "675           1906     0          0.9         1       0          14    0.5   \n",
      "492            657     0          1.6         1       0          35    0.6   \n",
      "\n",
      "     mobile_wt  n_cores  pc   ram  talk_time  touch_screen  wifi  px_total  \\\n",
      "143        155        6  18  2340          4             1     0   2644037   \n",
      "232        196        8   7  2214         19             0     1   1110564   \n",
      "484        115        7  14  3371         15             0     1   2271450   \n",
      "157        124        2   5  3537          6             0     0    262680   \n",
      "780        108        8   7  1190         17             1     0   1485234   \n",
      "134        131        7   4  3130          9             0     1   1799035   \n",
      "165        127        8  14  3932          5             1     1    461890   \n",
      "947         97        2  14   399         10             1     0    108504   \n",
      "675        114        4  12  3375         19             0     1    172533   \n",
      "492        143        5  14  3617         14             0     1   1837005   \n",
      "\n",
      "     sc_diagonal  \n",
      "143    23.430749  \n",
      "232    15.000000  \n",
      "484    17.464249  \n",
      "157    20.518285  \n",
      "780     8.602325  \n",
      "134     7.810250  \n",
      "165     5.099020  \n",
      "947    16.124515  \n",
      "675     6.708204  \n",
      "492    22.022716  \n"
     ]
    }
   ],
   "source": [
    "# Load your DataFrame from the CSV file\n",
    "device_pred = pd.read_csv(\"Cleaned_APP_test.csv\")\n",
    "\n",
    "# Make a copy of the DataFrame\n",
    "device_pred_copy = device_pred.copy()\n",
    "\n",
    "# Get a random sample of 10 data points\n",
    "random_sample = device_pred_copy.sample(n=10)  # Set random_state for reproducibility\n",
    "random_sample = random_sample.drop(['id'], axis=1)\n",
    "# Display the random sample\n",
    "print(random_sample)"
   ]
  },
  {
   "cell_type": "markdown",
   "metadata": {},
   "source": [
    "# Load the ANN pre-trained mode"
   ]
  },
  {
   "cell_type": "code",
   "execution_count": 69,
   "metadata": {},
   "outputs": [],
   "source": [
    "# To load the model back:\n",
    "ANN_model = load_model('ANN_model')"
   ]
  },
  {
   "cell_type": "markdown",
   "metadata": {},
   "source": [
    "#### Test the loaded model"
   ]
  },
  {
   "cell_type": "code",
   "execution_count": 70,
   "metadata": {},
   "outputs": [
    {
     "name": "stdout",
     "output_type": "stream",
     "text": [
      "Comfusion Matrix:\n",
      "[[ 95   0   0   0]\n",
      " [  5  98   0   0]\n",
      " [  0   1 100   1]\n",
      " [  0   0   0  99]]\n",
      "Class 1: Sensitivity = 1.0, Specificity = 0.9835526315789473\n",
      "Class 2: Sensitivity = 0.9514563106796117, Specificity = 0.9966216216216216\n",
      "Class 3: Sensitivity = 0.9803921568627451, Specificity = 1.0\n",
      "Class 4: Sensitivity = 1.0, Specificity = 0.9966666666666667\n",
      "The accuracy is:  0.9824561403508771\n"
     ]
    }
   ],
   "source": [
    "# Predict Using ANN model\n",
    "y_ANN_pred = np.argmax(ANN_model.predict(X), axis=1)\n",
    "# Get the confusion matrix\n",
    "conf_ANN_mat = cm(y_ANN_pred, Y)\n",
    "print(\"Comfusion Matrix:\")\n",
    "print(conf_ANN_mat)\n",
    "\n",
    "sensitivities, specificities = calculate_metrics_per_class(conf_ANN_mat)\n",
    "\n",
    "# Print or use the metrics per class\n",
    "for i in range(len(sensitivities)):\n",
    "    print(f\"Class {i + 1}: Sensitivity = {sensitivities[i]}, Specificity = {specificities[i]}\")\n",
    "\n",
    "# Calculate the accuracy: \n",
    "accuracy=np.trace(conf_ANN_mat)/np.sum(conf_ANN_mat)\n",
    "print(\"The accuracy is: \", accuracy)\n"
   ]
  },
  {
   "cell_type": "markdown",
   "metadata": {},
   "source": [
    "# Predict 10 data point from the test data"
   ]
  },
  {
   "cell_type": "code",
   "execution_count": 71,
   "metadata": {},
   "outputs": [],
   "source": [
    "# Predict Using ANN model 10 sample data\n",
    "y_pred_APP = np.argmax(ANN_model.predict(random_sample), axis=1)"
   ]
  },
  {
   "cell_type": "code",
   "execution_count": 72,
   "metadata": {},
   "outputs": [
    {
     "name": "stdout",
     "output_type": "stream",
     "text": [
      " Prediction\n",
      "          3\n",
      "          3\n",
      "          3\n",
      "          3\n",
      "          3\n",
      "          3\n",
      "          3\n",
      "          3\n",
      "          3\n",
      "          3\n"
     ]
    }
   ],
   "source": [
    "# Create a DataFrame with the predictions\n",
    "predictions_df = pd.DataFrame({\"Prediction\": y_pred_APP})\n",
    "\n",
    "# Print the DataFrame\n",
    "print(predictions_df.to_string(index=False))"
   ]
  },
  {
   "cell_type": "code",
   "execution_count": 51,
   "metadata": {},
   "outputs": [
    {
     "data": {
      "text/plain": [
       "<tf.Tensor: shape=(16,), dtype=float32, numpy=\n",
       "array([ 0.46351555, -0.9924943 , -1.1314335 ,  0.9786311 , -1.042594  ,\n",
       "       -0.2798302 , -0.35352388, -0.3747733 ,  0.21114962, -0.31505767,\n",
       "       -1.0441141 , -0.73240733, -1.003522  , -1.0106037 , -0.8868179 ,\n",
       "        0.4196069 ], dtype=float32)>"
      ]
     },
     "execution_count": 51,
     "metadata": {},
     "output_type": "execute_result"
    }
   ],
   "source": [
    "import tensorflow as tf\n",
    "row_data = X.iloc[5]\n",
    "\n",
    "# Convert row data to a NumPy array\n",
    "row_array = row_data.values\n",
    "\n",
    "# Convert NumPy array to a TensorFlow tensor\n",
    "row_tensor = tf.convert_to_tensor(row_array, dtype=tf.float32)\n",
    "\n",
    "row_tensor\n"
   ]
  },
  {
   "cell_type": "code",
   "execution_count": 52,
   "metadata": {},
   "outputs": [
    {
     "ename": "TypeError",
     "evalue": "Object of type 'EagerTensor' is not JSON serializable",
     "output_type": "error",
     "traceback": [
      "\u001b[1;31m---------------------------------------------------------------------------\u001b[0m",
      "\u001b[1;31mTypeError\u001b[0m                                 Traceback (most recent call last)",
      "\u001b[1;32m<ipython-input-52-7025ed002f80>\u001b[0m in \u001b[0;36m<module>\u001b[1;34m\u001b[0m\n\u001b[0;32m      6\u001b[0m \u001b[1;33m\u001b[0m\u001b[0m\n\u001b[0;32m      7\u001b[0m \u001b[1;32mif\u001b[0m \u001b[0m__name__\u001b[0m \u001b[1;33m==\u001b[0m \u001b[1;34m\"__main__\"\u001b[0m\u001b[1;33m:\u001b[0m\u001b[1;33m\u001b[0m\u001b[1;33m\u001b[0m\u001b[0m\n\u001b[1;32m----> 8\u001b[1;33m     \u001b[0mtestpredict\u001b[0m\u001b[1;33m(\u001b[0m\u001b[1;33m)\u001b[0m\u001b[1;33m\u001b[0m\u001b[1;33m\u001b[0m\u001b[0m\n\u001b[0m",
      "\u001b[1;32m<ipython-input-52-7025ed002f80>\u001b[0m in \u001b[0;36mtestpredict\u001b[1;34m()\u001b[0m\n\u001b[0;32m      2\u001b[0m \u001b[1;32mdef\u001b[0m \u001b[0mtestpredict\u001b[0m\u001b[1;33m(\u001b[0m\u001b[1;33m)\u001b[0m\u001b[1;33m:\u001b[0m\u001b[1;33m\u001b[0m\u001b[1;33m\u001b[0m\u001b[0m\n\u001b[0;32m      3\u001b[0m     \u001b[1;31m# Test case 1: Valid input features\u001b[0m\u001b[1;33m\u001b[0m\u001b[1;33m\u001b[0m\u001b[1;33m\u001b[0m\u001b[0m\n\u001b[1;32m----> 4\u001b[1;33m     \u001b[0mresponse\u001b[0m \u001b[1;33m=\u001b[0m \u001b[0mrequests\u001b[0m\u001b[1;33m.\u001b[0m\u001b[0mpost\u001b[0m\u001b[1;33m(\u001b[0m\u001b[1;34m\"http://localhost:8080/predict\"\u001b[0m\u001b[1;33m,\u001b[0m \u001b[0mjson\u001b[0m\u001b[1;33m=\u001b[0m\u001b[0mrow_tensor\u001b[0m\u001b[1;33m)\u001b[0m\u001b[1;33m\u001b[0m\u001b[1;33m\u001b[0m\u001b[0m\n\u001b[0m\u001b[0;32m      5\u001b[0m     \u001b[0mprint\u001b[0m\u001b[1;33m(\u001b[0m\u001b[0mresponse\u001b[0m\u001b[1;33m)\u001b[0m\u001b[1;33m\u001b[0m\u001b[1;33m\u001b[0m\u001b[0m\n\u001b[0;32m      6\u001b[0m \u001b[1;33m\u001b[0m\u001b[0m\n",
      "\u001b[1;32mc:\\Users\\user\\anaconda3\\envs\\myEnv\\lib\\site-packages\\requests\\api.py\u001b[0m in \u001b[0;36mpost\u001b[1;34m(url, data, json, **kwargs)\u001b[0m\n\u001b[0;32m    115\u001b[0m     \"\"\"\n\u001b[0;32m    116\u001b[0m \u001b[1;33m\u001b[0m\u001b[0m\n\u001b[1;32m--> 117\u001b[1;33m     \u001b[1;32mreturn\u001b[0m \u001b[0mrequest\u001b[0m\u001b[1;33m(\u001b[0m\u001b[1;34m'post'\u001b[0m\u001b[1;33m,\u001b[0m \u001b[0murl\u001b[0m\u001b[1;33m,\u001b[0m \u001b[0mdata\u001b[0m\u001b[1;33m=\u001b[0m\u001b[0mdata\u001b[0m\u001b[1;33m,\u001b[0m \u001b[0mjson\u001b[0m\u001b[1;33m=\u001b[0m\u001b[0mjson\u001b[0m\u001b[1;33m,\u001b[0m \u001b[1;33m**\u001b[0m\u001b[0mkwargs\u001b[0m\u001b[1;33m)\u001b[0m\u001b[1;33m\u001b[0m\u001b[1;33m\u001b[0m\u001b[0m\n\u001b[0m\u001b[0;32m    118\u001b[0m \u001b[1;33m\u001b[0m\u001b[0m\n\u001b[0;32m    119\u001b[0m \u001b[1;33m\u001b[0m\u001b[0m\n",
      "\u001b[1;32mc:\\Users\\user\\anaconda3\\envs\\myEnv\\lib\\site-packages\\requests\\api.py\u001b[0m in \u001b[0;36mrequest\u001b[1;34m(method, url, **kwargs)\u001b[0m\n\u001b[0;32m     59\u001b[0m     \u001b[1;31m# cases, and look like a memory leak in others.\u001b[0m\u001b[1;33m\u001b[0m\u001b[1;33m\u001b[0m\u001b[1;33m\u001b[0m\u001b[0m\n\u001b[0;32m     60\u001b[0m     \u001b[1;32mwith\u001b[0m \u001b[0msessions\u001b[0m\u001b[1;33m.\u001b[0m\u001b[0mSession\u001b[0m\u001b[1;33m(\u001b[0m\u001b[1;33m)\u001b[0m \u001b[1;32mas\u001b[0m \u001b[0msession\u001b[0m\u001b[1;33m:\u001b[0m\u001b[1;33m\u001b[0m\u001b[1;33m\u001b[0m\u001b[0m\n\u001b[1;32m---> 61\u001b[1;33m         \u001b[1;32mreturn\u001b[0m \u001b[0msession\u001b[0m\u001b[1;33m.\u001b[0m\u001b[0mrequest\u001b[0m\u001b[1;33m(\u001b[0m\u001b[0mmethod\u001b[0m\u001b[1;33m=\u001b[0m\u001b[0mmethod\u001b[0m\u001b[1;33m,\u001b[0m \u001b[0murl\u001b[0m\u001b[1;33m=\u001b[0m\u001b[0murl\u001b[0m\u001b[1;33m,\u001b[0m \u001b[1;33m**\u001b[0m\u001b[0mkwargs\u001b[0m\u001b[1;33m)\u001b[0m\u001b[1;33m\u001b[0m\u001b[1;33m\u001b[0m\u001b[0m\n\u001b[0m\u001b[0;32m     62\u001b[0m \u001b[1;33m\u001b[0m\u001b[0m\n\u001b[0;32m     63\u001b[0m \u001b[1;33m\u001b[0m\u001b[0m\n",
      "\u001b[1;32mc:\\Users\\user\\anaconda3\\envs\\myEnv\\lib\\site-packages\\requests\\sessions.py\u001b[0m in \u001b[0;36mrequest\u001b[1;34m(self, method, url, params, data, headers, cookies, files, auth, timeout, allow_redirects, proxies, hooks, stream, verify, cert, json)\u001b[0m\n\u001b[0;32m    513\u001b[0m             \u001b[0mhooks\u001b[0m\u001b[1;33m=\u001b[0m\u001b[0mhooks\u001b[0m\u001b[1;33m,\u001b[0m\u001b[1;33m\u001b[0m\u001b[1;33m\u001b[0m\u001b[0m\n\u001b[0;32m    514\u001b[0m         )\n\u001b[1;32m--> 515\u001b[1;33m         \u001b[0mprep\u001b[0m \u001b[1;33m=\u001b[0m \u001b[0mself\u001b[0m\u001b[1;33m.\u001b[0m\u001b[0mprepare_request\u001b[0m\u001b[1;33m(\u001b[0m\u001b[0mreq\u001b[0m\u001b[1;33m)\u001b[0m\u001b[1;33m\u001b[0m\u001b[1;33m\u001b[0m\u001b[0m\n\u001b[0m\u001b[0;32m    516\u001b[0m \u001b[1;33m\u001b[0m\u001b[0m\n\u001b[0;32m    517\u001b[0m         \u001b[0mproxies\u001b[0m \u001b[1;33m=\u001b[0m \u001b[0mproxies\u001b[0m \u001b[1;32mor\u001b[0m \u001b[1;33m{\u001b[0m\u001b[1;33m}\u001b[0m\u001b[1;33m\u001b[0m\u001b[1;33m\u001b[0m\u001b[0m\n",
      "\u001b[1;32mc:\\Users\\user\\anaconda3\\envs\\myEnv\\lib\\site-packages\\requests\\sessions.py\u001b[0m in \u001b[0;36mprepare_request\u001b[1;34m(self, request)\u001b[0m\n\u001b[0;32m    451\u001b[0m             \u001b[0mauth\u001b[0m\u001b[1;33m=\u001b[0m\u001b[0mmerge_setting\u001b[0m\u001b[1;33m(\u001b[0m\u001b[0mauth\u001b[0m\u001b[1;33m,\u001b[0m \u001b[0mself\u001b[0m\u001b[1;33m.\u001b[0m\u001b[0mauth\u001b[0m\u001b[1;33m)\u001b[0m\u001b[1;33m,\u001b[0m\u001b[1;33m\u001b[0m\u001b[1;33m\u001b[0m\u001b[0m\n\u001b[0;32m    452\u001b[0m             \u001b[0mcookies\u001b[0m\u001b[1;33m=\u001b[0m\u001b[0mmerged_cookies\u001b[0m\u001b[1;33m,\u001b[0m\u001b[1;33m\u001b[0m\u001b[1;33m\u001b[0m\u001b[0m\n\u001b[1;32m--> 453\u001b[1;33m             \u001b[0mhooks\u001b[0m\u001b[1;33m=\u001b[0m\u001b[0mmerge_hooks\u001b[0m\u001b[1;33m(\u001b[0m\u001b[0mrequest\u001b[0m\u001b[1;33m.\u001b[0m\u001b[0mhooks\u001b[0m\u001b[1;33m,\u001b[0m \u001b[0mself\u001b[0m\u001b[1;33m.\u001b[0m\u001b[0mhooks\u001b[0m\u001b[1;33m)\u001b[0m\u001b[1;33m,\u001b[0m\u001b[1;33m\u001b[0m\u001b[1;33m\u001b[0m\u001b[0m\n\u001b[0m\u001b[0;32m    454\u001b[0m         )\n\u001b[0;32m    455\u001b[0m         \u001b[1;32mreturn\u001b[0m \u001b[0mp\u001b[0m\u001b[1;33m\u001b[0m\u001b[1;33m\u001b[0m\u001b[0m\n",
      "\u001b[1;32mc:\\Users\\user\\anaconda3\\envs\\myEnv\\lib\\site-packages\\requests\\models.py\u001b[0m in \u001b[0;36mprepare\u001b[1;34m(self, method, url, headers, files, data, params, auth, cookies, hooks, json)\u001b[0m\n\u001b[0;32m    319\u001b[0m         \u001b[0mself\u001b[0m\u001b[1;33m.\u001b[0m\u001b[0mprepare_headers\u001b[0m\u001b[1;33m(\u001b[0m\u001b[0mheaders\u001b[0m\u001b[1;33m)\u001b[0m\u001b[1;33m\u001b[0m\u001b[1;33m\u001b[0m\u001b[0m\n\u001b[0;32m    320\u001b[0m         \u001b[0mself\u001b[0m\u001b[1;33m.\u001b[0m\u001b[0mprepare_cookies\u001b[0m\u001b[1;33m(\u001b[0m\u001b[0mcookies\u001b[0m\u001b[1;33m)\u001b[0m\u001b[1;33m\u001b[0m\u001b[1;33m\u001b[0m\u001b[0m\n\u001b[1;32m--> 321\u001b[1;33m         \u001b[0mself\u001b[0m\u001b[1;33m.\u001b[0m\u001b[0mprepare_body\u001b[0m\u001b[1;33m(\u001b[0m\u001b[0mdata\u001b[0m\u001b[1;33m,\u001b[0m \u001b[0mfiles\u001b[0m\u001b[1;33m,\u001b[0m \u001b[0mjson\u001b[0m\u001b[1;33m)\u001b[0m\u001b[1;33m\u001b[0m\u001b[1;33m\u001b[0m\u001b[0m\n\u001b[0m\u001b[0;32m    322\u001b[0m         \u001b[0mself\u001b[0m\u001b[1;33m.\u001b[0m\u001b[0mprepare_auth\u001b[0m\u001b[1;33m(\u001b[0m\u001b[0mauth\u001b[0m\u001b[1;33m,\u001b[0m \u001b[0murl\u001b[0m\u001b[1;33m)\u001b[0m\u001b[1;33m\u001b[0m\u001b[1;33m\u001b[0m\u001b[0m\n\u001b[0;32m    323\u001b[0m \u001b[1;33m\u001b[0m\u001b[0m\n",
      "\u001b[1;32mc:\\Users\\user\\anaconda3\\envs\\myEnv\\lib\\site-packages\\requests\\models.py\u001b[0m in \u001b[0;36mprepare_body\u001b[1;34m(self, data, files, json)\u001b[0m\n\u001b[0;32m    471\u001b[0m \u001b[1;33m\u001b[0m\u001b[0m\n\u001b[0;32m    472\u001b[0m             \u001b[1;32mtry\u001b[0m\u001b[1;33m:\u001b[0m\u001b[1;33m\u001b[0m\u001b[1;33m\u001b[0m\u001b[0m\n\u001b[1;32m--> 473\u001b[1;33m                 \u001b[0mbody\u001b[0m \u001b[1;33m=\u001b[0m \u001b[0mcomplexjson\u001b[0m\u001b[1;33m.\u001b[0m\u001b[0mdumps\u001b[0m\u001b[1;33m(\u001b[0m\u001b[0mjson\u001b[0m\u001b[1;33m,\u001b[0m \u001b[0mallow_nan\u001b[0m\u001b[1;33m=\u001b[0m\u001b[1;32mFalse\u001b[0m\u001b[1;33m)\u001b[0m\u001b[1;33m\u001b[0m\u001b[1;33m\u001b[0m\u001b[0m\n\u001b[0m\u001b[0;32m    474\u001b[0m             \u001b[1;32mexcept\u001b[0m \u001b[0mValueError\u001b[0m \u001b[1;32mas\u001b[0m \u001b[0mve\u001b[0m\u001b[1;33m:\u001b[0m\u001b[1;33m\u001b[0m\u001b[1;33m\u001b[0m\u001b[0m\n\u001b[0;32m    475\u001b[0m                 \u001b[1;32mraise\u001b[0m \u001b[0mInvalidJSONError\u001b[0m\u001b[1;33m(\u001b[0m\u001b[0mve\u001b[0m\u001b[1;33m,\u001b[0m \u001b[0mrequest\u001b[0m\u001b[1;33m=\u001b[0m\u001b[0mself\u001b[0m\u001b[1;33m)\u001b[0m\u001b[1;33m\u001b[0m\u001b[1;33m\u001b[0m\u001b[0m\n",
      "\u001b[1;32mc:\\Users\\user\\anaconda3\\envs\\myEnv\\lib\\json\\__init__.py\u001b[0m in \u001b[0;36mdumps\u001b[1;34m(obj, skipkeys, ensure_ascii, check_circular, allow_nan, cls, indent, separators, default, sort_keys, **kw)\u001b[0m\n\u001b[0;32m    236\u001b[0m         \u001b[0mcheck_circular\u001b[0m\u001b[1;33m=\u001b[0m\u001b[0mcheck_circular\u001b[0m\u001b[1;33m,\u001b[0m \u001b[0mallow_nan\u001b[0m\u001b[1;33m=\u001b[0m\u001b[0mallow_nan\u001b[0m\u001b[1;33m,\u001b[0m \u001b[0mindent\u001b[0m\u001b[1;33m=\u001b[0m\u001b[0mindent\u001b[0m\u001b[1;33m,\u001b[0m\u001b[1;33m\u001b[0m\u001b[1;33m\u001b[0m\u001b[0m\n\u001b[0;32m    237\u001b[0m         \u001b[0mseparators\u001b[0m\u001b[1;33m=\u001b[0m\u001b[0mseparators\u001b[0m\u001b[1;33m,\u001b[0m \u001b[0mdefault\u001b[0m\u001b[1;33m=\u001b[0m\u001b[0mdefault\u001b[0m\u001b[1;33m,\u001b[0m \u001b[0msort_keys\u001b[0m\u001b[1;33m=\u001b[0m\u001b[0msort_keys\u001b[0m\u001b[1;33m,\u001b[0m\u001b[1;33m\u001b[0m\u001b[1;33m\u001b[0m\u001b[0m\n\u001b[1;32m--> 238\u001b[1;33m         **kw).encode(obj)\n\u001b[0m\u001b[0;32m    239\u001b[0m \u001b[1;33m\u001b[0m\u001b[0m\n\u001b[0;32m    240\u001b[0m \u001b[1;33m\u001b[0m\u001b[0m\n",
      "\u001b[1;32mc:\\Users\\user\\anaconda3\\envs\\myEnv\\lib\\json\\encoder.py\u001b[0m in \u001b[0;36mencode\u001b[1;34m(self, o)\u001b[0m\n\u001b[0;32m    197\u001b[0m         \u001b[1;31m# exceptions aren't as detailed.  The list call should be roughly\u001b[0m\u001b[1;33m\u001b[0m\u001b[1;33m\u001b[0m\u001b[1;33m\u001b[0m\u001b[0m\n\u001b[0;32m    198\u001b[0m         \u001b[1;31m# equivalent to the PySequence_Fast that ''.join() would do.\u001b[0m\u001b[1;33m\u001b[0m\u001b[1;33m\u001b[0m\u001b[1;33m\u001b[0m\u001b[0m\n\u001b[1;32m--> 199\u001b[1;33m         \u001b[0mchunks\u001b[0m \u001b[1;33m=\u001b[0m \u001b[0mself\u001b[0m\u001b[1;33m.\u001b[0m\u001b[0miterencode\u001b[0m\u001b[1;33m(\u001b[0m\u001b[0mo\u001b[0m\u001b[1;33m,\u001b[0m \u001b[0m_one_shot\u001b[0m\u001b[1;33m=\u001b[0m\u001b[1;32mTrue\u001b[0m\u001b[1;33m)\u001b[0m\u001b[1;33m\u001b[0m\u001b[1;33m\u001b[0m\u001b[0m\n\u001b[0m\u001b[0;32m    200\u001b[0m         \u001b[1;32mif\u001b[0m \u001b[1;32mnot\u001b[0m \u001b[0misinstance\u001b[0m\u001b[1;33m(\u001b[0m\u001b[0mchunks\u001b[0m\u001b[1;33m,\u001b[0m \u001b[1;33m(\u001b[0m\u001b[0mlist\u001b[0m\u001b[1;33m,\u001b[0m \u001b[0mtuple\u001b[0m\u001b[1;33m)\u001b[0m\u001b[1;33m)\u001b[0m\u001b[1;33m:\u001b[0m\u001b[1;33m\u001b[0m\u001b[1;33m\u001b[0m\u001b[0m\n\u001b[0;32m    201\u001b[0m             \u001b[0mchunks\u001b[0m \u001b[1;33m=\u001b[0m \u001b[0mlist\u001b[0m\u001b[1;33m(\u001b[0m\u001b[0mchunks\u001b[0m\u001b[1;33m)\u001b[0m\u001b[1;33m\u001b[0m\u001b[1;33m\u001b[0m\u001b[0m\n",
      "\u001b[1;32mc:\\Users\\user\\anaconda3\\envs\\myEnv\\lib\\json\\encoder.py\u001b[0m in \u001b[0;36miterencode\u001b[1;34m(self, o, _one_shot)\u001b[0m\n\u001b[0;32m    255\u001b[0m                 \u001b[0mself\u001b[0m\u001b[1;33m.\u001b[0m\u001b[0mkey_separator\u001b[0m\u001b[1;33m,\u001b[0m \u001b[0mself\u001b[0m\u001b[1;33m.\u001b[0m\u001b[0mitem_separator\u001b[0m\u001b[1;33m,\u001b[0m \u001b[0mself\u001b[0m\u001b[1;33m.\u001b[0m\u001b[0msort_keys\u001b[0m\u001b[1;33m,\u001b[0m\u001b[1;33m\u001b[0m\u001b[1;33m\u001b[0m\u001b[0m\n\u001b[0;32m    256\u001b[0m                 self.skipkeys, _one_shot)\n\u001b[1;32m--> 257\u001b[1;33m         \u001b[1;32mreturn\u001b[0m \u001b[0m_iterencode\u001b[0m\u001b[1;33m(\u001b[0m\u001b[0mo\u001b[0m\u001b[1;33m,\u001b[0m \u001b[1;36m0\u001b[0m\u001b[1;33m)\u001b[0m\u001b[1;33m\u001b[0m\u001b[1;33m\u001b[0m\u001b[0m\n\u001b[0m\u001b[0;32m    258\u001b[0m \u001b[1;33m\u001b[0m\u001b[0m\n\u001b[0;32m    259\u001b[0m def _make_iterencode(markers, _default, _encoder, _indent, _floatstr,\n",
      "\u001b[1;32mc:\\Users\\user\\anaconda3\\envs\\myEnv\\lib\\json\\encoder.py\u001b[0m in \u001b[0;36mdefault\u001b[1;34m(self, o)\u001b[0m\n\u001b[0;32m    178\u001b[0m         \"\"\"\n\u001b[0;32m    179\u001b[0m         raise TypeError(\"Object of type '%s' is not JSON serializable\" %\n\u001b[1;32m--> 180\u001b[1;33m                         o.__class__.__name__)\n\u001b[0m\u001b[0;32m    181\u001b[0m \u001b[1;33m\u001b[0m\u001b[0m\n\u001b[0;32m    182\u001b[0m     \u001b[1;32mdef\u001b[0m \u001b[0mencode\u001b[0m\u001b[1;33m(\u001b[0m\u001b[0mself\u001b[0m\u001b[1;33m,\u001b[0m \u001b[0mo\u001b[0m\u001b[1;33m)\u001b[0m\u001b[1;33m:\u001b[0m\u001b[1;33m\u001b[0m\u001b[1;33m\u001b[0m\u001b[0m\n",
      "\u001b[1;31mTypeError\u001b[0m: Object of type 'EagerTensor' is not JSON serializable"
     ]
    }
   ],
   "source": [
    "\n",
    "import requests \n",
    "def testpredict():\n",
    "    # Test case 1: Valid input features\n",
    "    response = requests.post(\"http://localhost:8080/predict\", json=row_tensor)\n",
    "    print(response)\n",
    "\n",
    "if __name__ == \"__main__\":\n",
    "    testpredict()"
   ]
  }
 ],
 "metadata": {
  "kernelspec": {
   "display_name": "myEnv",
   "language": "python",
   "name": "python3"
  },
  "language_info": {
   "codemirror_mode": {
    "name": "ipython",
    "version": 3
   },
   "file_extension": ".py",
   "mimetype": "text/x-python",
   "name": "python",
   "nbconvert_exporter": "python",
   "pygments_lexer": "ipython3",
   "version": "3.6.13"
  }
 },
 "nbformat": 4,
 "nbformat_minor": 2
}
